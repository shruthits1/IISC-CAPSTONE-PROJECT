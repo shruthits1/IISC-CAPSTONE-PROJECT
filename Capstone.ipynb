{
  "nbformat": 4,
  "nbformat_minor": 0,
  "metadata": {
    "colab": {
      "private_outputs": true,
      "provenance": [],
      "collapsed_sections": [
        "AaaSbY7HY3mj",
        "jZJ3bQeqY72O",
        "KxmdEohhZBZW",
        "jpLb3704a848",
        "-h-FUUWRfOvf"
      ],
      "authorship_tag": "ABX9TyOqg4IcsfQIO6JmPqNpg6BS",
      "include_colab_link": true
    },
    "kernelspec": {
      "name": "python3",
      "display_name": "Python 3"
    },
    "language_info": {
      "name": "python"
    }
  },
  "cells": [
    {
      "cell_type": "markdown",
      "metadata": {
        "id": "view-in-github",
        "colab_type": "text"
      },
      "source": [
        "<a href=\"https://colab.research.google.com/github/pragatheeswaran-cds/IISC-CAPSTONE-PROJECT/blob/praga-upload/Capstone.ipynb\" target=\"_parent\"><img src=\"https://colab.research.google.com/assets/colab-badge.svg\" alt=\"Open In Colab\"/></a>"
      ]
    },
    {
      "cell_type": "code",
      "source": [
        "import pandas as pd\n",
        "import matplotlib.pyplot as plt\n",
        "import numpy as np\n",
        "import seaborn as sns"
      ],
      "metadata": {
        "id": "i5upfCPzLl88"
      },
      "execution_count": null,
      "outputs": []
    },
    {
      "cell_type": "markdown",
      "source": [
        "### Budget"
      ],
      "metadata": {
        "id": "AaaSbY7HY3mj"
      }
    },
    {
      "cell_type": "code",
      "source": [
        "df = pd.read_csv('Budget.csv')\n",
        "df.shape"
      ],
      "metadata": {
        "id": "P2wps9usSoHP"
      },
      "execution_count": null,
      "outputs": []
    },
    {
      "cell_type": "code",
      "source": [
        "df['Category'].unique()"
      ],
      "metadata": {
        "id": "W0V_v_e_Sn8F"
      },
      "execution_count": null,
      "outputs": []
    },
    {
      "cell_type": "code",
      "source": [
        "ax = df.plot(kind='bar', x='Category', title=\"Budget\", ylabel='Amount in USD', grid=True)\n",
        "ax.bar_label(ax.containers[0])\n",
        "plt.show()"
      ],
      "metadata": {
        "id": "ziA7u7E_bCmo"
      },
      "execution_count": null,
      "outputs": []
    },
    {
      "cell_type": "markdown",
      "source": [
        "### Personal Transactions"
      ],
      "metadata": {
        "id": "jZJ3bQeqY72O"
      }
    },
    {
      "cell_type": "code",
      "source": [
        "df_fin = pd.read_csv('personal_transactions.csv', parse_dates=['Date'])\n",
        "df_fin.shape"
      ],
      "metadata": {
        "id": "lt8baOp7MVEl"
      },
      "execution_count": null,
      "outputs": []
    },
    {
      "cell_type": "code",
      "source": [
        "df_fin.columns"
      ],
      "metadata": {
        "id": "Y2vi2pmOMmdj"
      },
      "execution_count": null,
      "outputs": []
    },
    {
      "cell_type": "code",
      "source": [
        "df_fin.info()"
      ],
      "metadata": {
        "id": "g1NF2zzYxg-A"
      },
      "execution_count": null,
      "outputs": []
    },
    {
      "cell_type": "code",
      "source": [
        "df_fin['Account Name'].unique()"
      ],
      "metadata": {
        "id": "ep5jdh68VgH5"
      },
      "execution_count": null,
      "outputs": []
    },
    {
      "cell_type": "code",
      "source": [
        "account_count = df_fin['Account Name'].value_counts()"
      ],
      "metadata": {
        "id": "Utfxxq8bVmjY"
      },
      "execution_count": null,
      "outputs": []
    },
    {
      "cell_type": "code",
      "source": [
        "plt.pie(account_count, labels=account_count.index, autopct='%1.1f%%', startangle=90)\n",
        "plt.title(\"Type of Account Usage\")\n",
        "plt.tight_layout()\n",
        "plt.show()"
      ],
      "metadata": {
        "id": "IxbwFk1LVurI"
      },
      "execution_count": null,
      "outputs": []
    },
    {
      "cell_type": "code",
      "source": [
        "df_fin.Category.unique()"
      ],
      "metadata": {
        "id": "0xvtwQ_i8PqG"
      },
      "execution_count": null,
      "outputs": []
    },
    {
      "cell_type": "code",
      "source": [
        "df_fin[df_fin.duplicated]"
      ],
      "metadata": {
        "id": "rkxI2t30Diw2"
      },
      "execution_count": null,
      "outputs": []
    },
    {
      "cell_type": "code",
      "source": [
        "df_fin['Category'] = df_fin['Category'].replace('Food & Dining', 'Fast Food')"
      ],
      "metadata": {
        "id": "dFCKBASaSOO3"
      },
      "execution_count": null,
      "outputs": []
    },
    {
      "cell_type": "code",
      "source": [
        "df_fin['Date'].min(), df_fin['Date'].max()"
      ],
      "metadata": {
        "id": "eYwW4oKvMqPz"
      },
      "execution_count": null,
      "outputs": []
    },
    {
      "cell_type": "code",
      "source": [
        "df_fin['month'] = df_fin['Date'].dt.month"
      ],
      "metadata": {
        "id": "CoCFTdUrSjsm"
      },
      "execution_count": null,
      "outputs": []
    },
    {
      "cell_type": "code",
      "source": [
        "df_fin['year'] = df_fin['Date'].dt.year"
      ],
      "metadata": {
        "id": "Do5yYrG4YQrL"
      },
      "execution_count": null,
      "outputs": []
    },
    {
      "cell_type": "code",
      "source": [
        "df_fin[df_fin['Amount'] <= 0]"
      ],
      "metadata": {
        "id": "pgeRuK-v93qW"
      },
      "execution_count": null,
      "outputs": []
    },
    {
      "cell_type": "code",
      "source": [
        "df_fin['Transaction Type'].unique()"
      ],
      "metadata": {
        "id": "MVMDx-3L_bMi"
      },
      "execution_count": null,
      "outputs": []
    },
    {
      "cell_type": "code",
      "source": [
        "df_fin[df_fin['Transaction Type'] == 'credit']['Category'].unique()"
      ],
      "metadata": {
        "id": "gnkX_XrC-y5f"
      },
      "execution_count": null,
      "outputs": []
    },
    {
      "cell_type": "code",
      "source": [
        "df_fin['Transaction Type'] = np.where(\n",
        "    (df_fin['Category'] == 'Credit Card Payment') & (df_fin['Transaction Type'] == 'credit'),\n",
        "    'debit',\n",
        "    df_fin['Transaction Type']\n",
        ")"
      ],
      "metadata": {
        "id": "xBYwTcpo-Goq"
      },
      "execution_count": null,
      "outputs": []
    },
    {
      "cell_type": "code",
      "source": [
        "df_fin[df_fin['Transaction Type'] == 'credit']['Category'].unique()"
      ],
      "metadata": {
        "id": "AYvCWy_G-0iQ"
      },
      "execution_count": null,
      "outputs": []
    },
    {
      "cell_type": "code",
      "source": [
        "#TODO check some months have higher paycheck"
      ],
      "metadata": {
        "id": "6ar0UKu0BmIp"
      },
      "execution_count": null,
      "outputs": []
    },
    {
      "cell_type": "code",
      "source": [
        "credit_data = df_fin[df_fin['Transaction Type'] == 'credit'].groupby(['year','month']).sum('Amount')\n",
        "debit_data = df_fin[df_fin['Transaction Type'] == 'debit'].groupby(['year','month']).sum('Amount')"
      ],
      "metadata": {
        "id": "P1THkANk7jrm"
      },
      "execution_count": null,
      "outputs": []
    },
    {
      "cell_type": "code",
      "source": [
        "credit_data.reset_index(inplace=True)\n",
        "debit_data.reset_index(inplace=True)\n",
        "\n",
        "credit_data['date'] = pd.to_datetime(credit_data[['year', 'month']].assign(day=1))\n",
        "debit_data['date'] = pd.to_datetime(debit_data[['year', 'month']].assign(day=1))"
      ],
      "metadata": {
        "id": "jluS-FFQ0DZN"
      },
      "execution_count": null,
      "outputs": []
    },
    {
      "cell_type": "code",
      "source": [
        "import matplotlib.pyplot as plt\n",
        "plt.figure(figsize=(10, 6))\n",
        "plt.plot(credit_data['date'], credit_data['Amount'], label = 'Income', marker='o')\n",
        "plt.plot(debit_data['date'], debit_data['Amount'], label = 'Expense', marker='o', color='r')\n",
        "plt.title('Monthly Income vs Expenses')\n",
        "plt.xlabel('Month')\n",
        "plt.ylabel('Amount ($)')\n",
        "plt.legend()\n",
        "plt.grid(True)\n",
        "plt.tight_layout()\n",
        "plt.show()"
      ],
      "metadata": {
        "id": "Iv4e8WlM7jm9"
      },
      "execution_count": null,
      "outputs": []
    },
    {
      "cell_type": "code",
      "source": [
        "df_fin[(df_fin['Transaction Type'] == 'debit') & (df_fin['month'] == 10) & (df_fin['year'] == 2018)]"
      ],
      "metadata": {
        "id": "--Gr2KZWbVo1"
      },
      "execution_count": null,
      "outputs": []
    },
    {
      "cell_type": "markdown",
      "source": [
        "### Alpha Vantage"
      ],
      "metadata": {
        "id": "LWpcYU_kDj0_"
      }
    },
    {
      "cell_type": "code",
      "source": [
        "import requests"
      ],
      "metadata": {
        "id": "trh297JED4g8"
      },
      "execution_count": null,
      "outputs": []
    },
    {
      "cell_type": "code",
      "source": [
        "url = 'https://www.alphavantage.co/query?function=TIME_SERIES_DAILY&symbol=IBM&apikey=1Y92HFSN1KP5GN0Q&outputsize=full'\n",
        "r = requests.get(url)\n",
        "data = r.json()\n",
        "\n",
        "print(data)"
      ],
      "metadata": {
        "id": "pKS5wY6GDlPu"
      },
      "execution_count": null,
      "outputs": []
    },
    {
      "cell_type": "code",
      "source": [
        "# Your data is already a dictionary with nested structure\n",
        "# Extract the time series data\n",
        "time_series = data['Time Series (Daily)']\n",
        "\n",
        "# Convert to DataFrame\n",
        "stock_data = pd.DataFrame.from_dict(time_series, orient='index')\n",
        "\n",
        "# Convert string columns to numeric\n",
        "for col in stock_data.columns:\n",
        "    stock_data[col] = pd.to_numeric(stock_data[col])\n",
        "\n",
        "# Rename columns for easier access\n",
        "stock_data.columns = ['open', 'high', 'low', 'close', 'volume']\n",
        "\n",
        "# Convert index to datetime\n",
        "stock_data.index = pd.to_datetime(stock_data.index)\n",
        "\n",
        "# Sort by date (oldest to newest)\n",
        "stock_data = stock_data.sort_index()\n",
        "\n",
        "print(stock_data.shape)\n",
        "print(stock_data.head())"
      ],
      "metadata": {
        "id": "6CUBlWf1D3le"
      },
      "execution_count": null,
      "outputs": []
    },
    {
      "cell_type": "code",
      "source": [
        "stock_data.shape"
      ],
      "metadata": {
        "id": "aXREgRVfYTzo"
      },
      "execution_count": null,
      "outputs": []
    },
    {
      "cell_type": "code",
      "source": [
        "start_date = '2022-01-01'\n",
        "stock_data_3y = stock_data[stock_data.index >= start_date]"
      ],
      "metadata": {
        "id": "Jbu1YlvnVqVQ"
      },
      "execution_count": null,
      "outputs": []
    },
    {
      "cell_type": "code",
      "source": [
        "stock_data_3y.shape"
      ],
      "metadata": {
        "id": "N-upYWQ1XdQ6"
      },
      "execution_count": null,
      "outputs": []
    },
    {
      "cell_type": "code",
      "source": [
        "df= stock_data_3y.copy()"
      ],
      "metadata": {
        "id": "3Qk-t1E1ZEZN"
      },
      "execution_count": null,
      "outputs": []
    },
    {
      "cell_type": "code",
      "source": [
        "import warnings\n",
        "warnings.filterwarnings('ignore')\n",
        "import numpy as np\n",
        "import pandas as pd\n",
        "import matplotlib.pyplot as plt\n",
        "from pandas.plotting import lag_plot\n",
        "import statsmodels.api as sm\n",
        "from statsmodels.tsa.stattools import adfuller"
      ],
      "metadata": {
        "id": "66gBhepxYmfd"
      },
      "execution_count": null,
      "outputs": []
    },
    {
      "cell_type": "code",
      "source": [
        "# Plot the closing values for Microsoft\n",
        "plt.figure(figsize=(17,8))\n",
        "plt.plot(df['close'])\n",
        "plt.title('IBM Closing Values')\n",
        "plt.xlabel('Dates')\n",
        "plt.ylabel('Close')\n",
        "plt.legend()"
      ],
      "metadata": {
        "id": "1YISUYoqYmdA"
      },
      "execution_count": null,
      "outputs": []
    },
    {
      "cell_type": "code",
      "source": [
        "df.tail(10)"
      ],
      "metadata": {
        "id": "YgfGBYYUa33b"
      },
      "execution_count": null,
      "outputs": []
    },
    {
      "cell_type": "code",
      "source": [
        "df.index = pd.to_datetime(df.index)\n",
        "full_range = pd.date_range(start=df.index.min(), end=df.index.max(), freq='D')\n",
        "df_full = df.reindex(full_range)\n",
        "\n",
        "df_full[['open','high','low','close']] = df_full[['open','high','low','close']].ffill()  # forward fill for prices\n",
        "df_full['volume'] = df_full['volume'].fillna(0)  # no trades on holidays\n",
        "\n",
        "\n",
        "df_full.index.name = 'date'\n",
        "print(df_full.tail(10))"
      ],
      "metadata": {
        "id": "5cH8LMj2aMGQ"
      },
      "execution_count": null,
      "outputs": []
    },
    {
      "cell_type": "code",
      "source": [
        "df_weekly = df_full.resample('W').mean()"
      ],
      "metadata": {
        "id": "PWNcXip4cH8f"
      },
      "execution_count": null,
      "outputs": []
    },
    {
      "cell_type": "code",
      "source": [
        "from statsmodels.tsa.seasonal import seasonal_decompose\n",
        "result = seasonal_decompose(df_weekly['close'], model='multiplicative')"
      ],
      "metadata": {
        "id": "14kPvs4OYmai"
      },
      "execution_count": null,
      "outputs": []
    },
    {
      "cell_type": "code",
      "source": [
        "result.plot()\n",
        "plt.tight_layout()\n",
        "plt.xticks(rotation=45)\n",
        "plt.show()"
      ],
      "metadata": {
        "id": "C7sznld-YmYE"
      },
      "execution_count": null,
      "outputs": []
    },
    {
      "cell_type": "markdown",
      "source": [
        "#### Weekly"
      ],
      "metadata": {
        "id": "JqfsbO3GdAEc"
      }
    },
    {
      "cell_type": "code",
      "source": [
        "url = 'https://www.alphavantage.co/query?function=TIME_SERIES_WEEKLY_ADJUSTED&symbol=IBM&apikey=1Y92HFSN1KP5GN0Q&outputsize=full'\n",
        "r = requests.get(url)\n",
        "data = r.json()\n",
        "\n",
        "print(data)"
      ],
      "metadata": {
        "id": "kMSF8NquclDC"
      },
      "execution_count": null,
      "outputs": []
    },
    {
      "cell_type": "code",
      "source": [
        "time_series = data['Weekly Adjusted Time Series']"
      ],
      "metadata": {
        "id": "Fdv0hOP6ck-Z"
      },
      "execution_count": null,
      "outputs": []
    },
    {
      "cell_type": "code",
      "source": [
        "stock_data = pd.DataFrame.from_dict(time_series, orient='index')"
      ],
      "metadata": {
        "id": "a0SBHCWKdhw9"
      },
      "execution_count": null,
      "outputs": []
    },
    {
      "cell_type": "code",
      "source": [
        "for col in stock_data.columns:\n",
        "    stock_data[col] = pd.to_numeric(stock_data[col])"
      ],
      "metadata": {
        "id": "4CgM7zxvdhup"
      },
      "execution_count": null,
      "outputs": []
    },
    {
      "cell_type": "code",
      "source": [
        "stock_data.columns = ['open', 'high', 'low', 'close', 'adjusted_close', 'volume', 'dividend_amount']"
      ],
      "metadata": {
        "id": "HJncINxMdhr6"
      },
      "execution_count": null,
      "outputs": []
    },
    {
      "cell_type": "code",
      "source": [
        "stock_data.index = pd.to_datetime(stock_data.index)"
      ],
      "metadata": {
        "id": "Aqfj3_HSdhpL"
      },
      "execution_count": null,
      "outputs": []
    },
    {
      "cell_type": "code",
      "source": [
        "stock_data = stock_data.sort_index()"
      ],
      "metadata": {
        "id": "D_jRQxBQdpsK"
      },
      "execution_count": null,
      "outputs": []
    },
    {
      "cell_type": "code",
      "source": [
        "# Calculate daily returns\n",
        "stock_data['returns'] = stock_data['adjusted_close'].pct_change()\n",
        "\n",
        "# Annualized return (mean * trading days)\n",
        "annual_return = stock_data['returns'].mean() * 252\n",
        "\n",
        "# Annualized volatility (std * sqrt(trading days))\n",
        "annual_volatility = stock_data['returns'].std() * (252 ** 0.5)\n",
        "\n",
        "print(f\"Annual Return: {annual_return:.2%}\")\n",
        "print(f\"Annual Volatility: {annual_volatility:.2%}\")\n"
      ],
      "metadata": {
        "id": "XX2fNBIWdpp6"
      },
      "execution_count": null,
      "outputs": []
    },
    {
      "cell_type": "code",
      "source": [
        "def classify_stock(ret, vol):\n",
        "    if ret >= 0.15 and vol <= 0.20:\n",
        "        return \"High Return / Low Risk\"\n",
        "    elif ret >= 0.15 and vol > 0.20:\n",
        "        return \"High Return / High Risk\"\n",
        "    elif ret < 0.15 and vol <= 0.20:\n",
        "        return \"Low Return / Low Risk\"\n",
        "    else:\n",
        "        return \"Low Return / High Risk\"\n",
        "\n",
        "category = classify_stock(annual_return, annual_volatility)\n",
        "print(\"Category:\", category)\n"
      ],
      "metadata": {
        "id": "2AnjB0XYdpn0"
      },
      "execution_count": null,
      "outputs": []
    },
    {
      "cell_type": "code",
      "source": [
        "returns = stock_data['returns'].dropna()"
      ],
      "metadata": {
        "id": "giqyy_gefS1Z"
      },
      "execution_count": null,
      "outputs": []
    },
    {
      "cell_type": "code",
      "source": [
        "plt.figure(figsize=(9,4))\n",
        "sns.kdeplot(returns * 100, color='brown', linewidth=2)\n",
        "plt.xlabel(\"Return, %\")\n",
        "plt.ylabel(\"Probability\")\n",
        "plt.title(\"IBM (Empirical Return Distribution)\")\n",
        "\n"
      ],
      "metadata": {
        "id": "rY34QBIBdpjJ"
      },
      "execution_count": null,
      "outputs": []
    },
    {
      "cell_type": "code",
      "source": [],
      "metadata": {
        "id": "aCLM0Q86dpeH"
      },
      "execution_count": null,
      "outputs": []
    },
    {
      "cell_type": "markdown",
      "source": [
        "### Insurance Dataset"
      ],
      "metadata": {
        "id": "9COQo4t4uX3s"
      }
    },
    {
      "cell_type": "code",
      "source": [
        "ins_data = pd.read_csv('insurance_dataset.csv')\n",
        "ins_data.shape"
      ],
      "metadata": {
        "id": "ugx51KHsuaJZ"
      },
      "execution_count": null,
      "outputs": []
    },
    {
      "cell_type": "code",
      "source": [
        "ins_data.head()"
      ],
      "metadata": {
        "id": "etLpN2hLHEo4"
      },
      "execution_count": null,
      "outputs": []
    },
    {
      "cell_type": "code",
      "source": [
        "ins_data.info()"
      ],
      "metadata": {
        "id": "HsUL7wElHegO"
      },
      "execution_count": null,
      "outputs": []
    },
    {
      "cell_type": "code",
      "source": [
        "ins_data.medical_history.unique()"
      ],
      "metadata": {
        "id": "6V8_wM7mRsJl"
      },
      "execution_count": null,
      "outputs": []
    },
    {
      "cell_type": "code",
      "source": [
        "ins_data.family_medical_history.unique()"
      ],
      "metadata": {
        "id": "GcX-RTyERxLN"
      },
      "execution_count": null,
      "outputs": []
    },
    {
      "cell_type": "code",
      "source": [
        "ins_data['medical_history'] = ins_data['medical_history'].fillna('No Record')\n",
        "ins_data['family_medical_history'] = ins_data['family_medical_history'].fillna('No Record')"
      ],
      "metadata": {
        "id": "sOaRk3YJHytP"
      },
      "execution_count": null,
      "outputs": []
    },
    {
      "cell_type": "code",
      "source": [
        "ins_data.describe()"
      ],
      "metadata": {
        "id": "jjiVultCIMrf"
      },
      "execution_count": null,
      "outputs": []
    },
    {
      "cell_type": "code",
      "source": [
        "import seaborn as sns\n",
        "sns.boxplot(ins_data[['age','bmi']])"
      ],
      "metadata": {
        "id": "ku_bV410IfXd"
      },
      "execution_count": null,
      "outputs": []
    },
    {
      "cell_type": "code",
      "source": [
        "plt.figure(figsize=(8,5))\n",
        "sns.histplot(data=ins_data, x=\"age\", kde=True, bins=48)\n",
        "plt.title(\"Age Distribution\")\n",
        "plt.tight_layout()\n",
        "plt.show()"
      ],
      "metadata": {
        "id": "7oqB_Gr0Jmfd"
      },
      "execution_count": null,
      "outputs": []
    },
    {
      "cell_type": "code",
      "source": [
        "plt.figure(figsize=(8,5))\n",
        "sns.histplot(data=ins_data, x=\"bmi\", kde=True, bins=35)\n",
        "plt.title(\"BMI Distribution\")\n",
        "plt.tight_layout()\n",
        "plt.show()"
      ],
      "metadata": {
        "id": "y57ZFja_Kfxs"
      },
      "execution_count": null,
      "outputs": []
    },
    {
      "cell_type": "code",
      "source": [
        "plt.figure(figsize=(8,5))\n",
        "sns.histplot(data=ins_data, x=\"charges\", kde=True, bins=35)\n",
        "plt.title(\"Charges ($) Distribution\")\n",
        "plt.tight_layout()\n",
        "plt.show()"
      ],
      "metadata": {
        "id": "i_0ccmvMLMH8"
      },
      "execution_count": null,
      "outputs": []
    },
    {
      "cell_type": "code",
      "source": [
        "smoker_labels = ins_data['smoker'].map(lambda x: 'Smoker' if x == 'yes' else 'Non-Smoker')\n",
        "smoker_counts = smoker_labels.value_counts()\n",
        "plt.pie(smoker_counts, labels=smoker_counts.index, autopct='%1.1f%%', startangle=90)\n",
        "plt.title(\"Smoker vs Non-Smoker\")\n",
        "plt.tight_layout()\n",
        "plt.show()"
      ],
      "metadata": {
        "id": "CvtT7cl_Mky7"
      },
      "execution_count": null,
      "outputs": []
    },
    {
      "cell_type": "code",
      "source": [
        "smoker_counts"
      ],
      "metadata": {
        "id": "V2NpaE1SU56s"
      },
      "execution_count": null,
      "outputs": []
    },
    {
      "cell_type": "code",
      "source": [
        "fig = sns.histplot(ins_data,\n",
        "                  x='charges',\n",
        "                  hue='smoker'\n",
        ")\n",
        "plt.title('Charges vs. Smoker')"
      ],
      "metadata": {
        "id": "Qo3j_UZOM4dr"
      },
      "execution_count": null,
      "outputs": []
    },
    {
      "cell_type": "code",
      "source": [
        "sns.histplot(data=ins_data,x='charges',hue='coverage_level', kde=True)"
      ],
      "metadata": {
        "id": "mrTey6Iwj-Kz"
      },
      "execution_count": null,
      "outputs": []
    },
    {
      "cell_type": "code",
      "source": [
        "sns.histplot(data=ins_data,x='charges',hue='region', kde=True)"
      ],
      "metadata": {
        "id": "b5_7zRu1kEbD"
      },
      "execution_count": null,
      "outputs": []
    },
    {
      "cell_type": "code",
      "source": [
        "sns.histplot(data=ins_data,x='charges',hue='exercise_frequency', kde=True)"
      ],
      "metadata": {
        "id": "48KEa0F_kER1"
      },
      "execution_count": null,
      "outputs": []
    },
    {
      "cell_type": "code",
      "source": [
        "ins_data[ins_data.duplicated]"
      ],
      "metadata": {
        "id": "l1yt3XnTSLDS"
      },
      "execution_count": null,
      "outputs": []
    },
    {
      "cell_type": "code",
      "source": [
        "import pandas as pd\n",
        "\n",
        "df_encoded = pd.get_dummies(ins_data, columns=['smoker', 'region', 'gender', 'medical_history','family_medical_history','exercise_frequency','occupation','coverage_level'], drop_first=False)"
      ],
      "metadata": {
        "id": "fCffEOPAOMo9"
      },
      "execution_count": null,
      "outputs": []
    },
    {
      "cell_type": "code",
      "source": [
        "cols = [c for c in df_encoded.columns if c != 'charges'] + ['charges']\n",
        "df_encoded = df_encoded[cols]"
      ],
      "metadata": {
        "id": "gtYbsRsbUL5R"
      },
      "execution_count": null,
      "outputs": []
    },
    {
      "cell_type": "code",
      "source": [
        "plt.figure(figsize=(30,25))\n",
        "sns.heatmap(df_encoded.corr(), cmap='coolwarm', annot=True, fmt='0.2f' )\n",
        "plt.title(\"Correlation Heatmap\")\n",
        "plt.tight_layout()\n",
        "plt.show()"
      ],
      "metadata": {
        "id": "MnwmHF8XPEs5"
      },
      "execution_count": null,
      "outputs": []
    },
    {
      "cell_type": "code",
      "source": [],
      "metadata": {
        "id": "KhmZlKonjU3Y"
      },
      "execution_count": null,
      "outputs": []
    }
  ]
}